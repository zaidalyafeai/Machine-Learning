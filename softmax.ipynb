{
 "cells": [
  {
   "cell_type": "markdown",
   "metadata": {},
   "source": [
    "### Import libraries "
   ]
  },
  {
   "cell_type": "code",
   "execution_count": 1,
   "metadata": {},
   "outputs": [],
   "source": [
    "import numpy as np \n",
    "import matplotlib.pyplot as plt\n",
    "import random\n",
    "import sklearn\n",
    "from sklearn import datasets\n",
    "from sklearn.datasets.samples_generator import make_blobs\n",
    "import math"
   ]
  },
  {
   "cell_type": "markdown",
   "metadata": {},
   "source": [
    "### Generated random data\n",
    "\n",
    "We generate random data from $L^2$. The main problem is classifying each point to the correct plane.  "
   ]
  },
  {
   "cell_type": "code",
   "execution_count": 2,
   "metadata": {},
   "outputs": [
    {
     "data": {
      "text/plain": [
       "<matplotlib.collections.PathCollection at 0x7f8d4f8bb128>"
      ]
     },
     "execution_count": 2,
     "metadata": {},
     "output_type": "execute_result"
    },
    {
     "data": {
      "image/png": "[encoded data removed]",
      "text/plain": [
       "<matplotlib.figure.Figure at 0x7f8d5c028c88>"
      ]
     },
     "metadata": {},
     "output_type": "display_data"
    }
   ],
   "source": [
    "%matplotlib inline\n",
    "\n",
    "X, y = make_blobs(n_samples=100, centers=3, n_features=2, random_state=0 , cluster_std = 0.5)\n",
    "plt.scatter(X[:,0], X[:,1], s=40, c=y, cmap=plt.cm.Spectral)"
   ]
  },
  {
   "cell_type": "markdown",
   "metadata": {},
   "source": [
    "### Convert labels to the binary format "
   ]
  },
  {
   "cell_type": "code",
   "execution_count": 3,
   "metadata": {},
   "outputs": [],
   "source": [
    "bry = []\n",
    "for i in y:\n",
    "    if i == 0:\n",
    "        bry.append([1.0 , 0.0 , 0.0])\n",
    "    elif i== 1 :\n",
    "        bry.append([0.0 , 1.0 , 0.0])\n",
    "    else:\n",
    "        bry.append([0.0 , 0.0 , 1.0])\n",
    "bry = np.array(bry)"
   ]
  },
  {
   "cell_type": "markdown",
   "metadata": {},
   "source": [
    "### Add 1 for bias "
   ]
  },
  {
   "cell_type": "code",
   "execution_count": 4,
   "metadata": {},
   "outputs": [],
   "source": [
    "X=np.insert(X, 0, values=1.0, axis=1)"
   ]
  },
  {
   "cell_type": "markdown",
   "metadata": {},
   "source": [
    "### Create the model hyper-parameters \n",
    "\n",
    "The network will have a linear model with no hidden layer. Then input is 3 neurons and the output is one neuron. "
   ]
  },
  {
   "cell_type": "markdown",
   "metadata": {},
   "source": [
    "Initialize random weights and biases"
   ]
  },
  {
   "cell_type": "code",
   "execution_count": 5,
   "metadata": {},
   "outputs": [],
   "source": [
    "m = X.shape[0]\n",
    "n = X.shape[1]\n",
    "nclasses = 3\n",
    "\n",
    "W = np.random.randn(n,nclasses)"
   ]
  },
  {
   "cell_type": "markdown",
   "metadata": {},
   "source": [
    "### The loss function \n",
    "\n",
    "The loss function is the cross intropy loss \n",
    "\n",
    "$$L = -\\sum_{k} y_k \\log(p_k) $$\n",
    "Where the soft max function \n",
    "$$p_k = \\frac{e^{o_k}}{\\sum_i e^{o_i}}$$"
   ]
  },
  {
   "cell_type": "code",
   "execution_count": 6,
   "metadata": {},
   "outputs": [],
   "source": [
    "def loss(X,y,W , a = 0):\n",
    "    return -np.sum(np.log(soft_max(np.dot(X,W)))*y)+ a * np.sum(W**2)\n",
    "        "
   ]
  },
  {
   "cell_type": "code",
   "execution_count": 7,
   "metadata": {},
   "outputs": [],
   "source": [
    "def soft_max(X):\n",
    "    exp  = np.exp(X)\n",
    "    summ = np.sum(exp, axis=1)\n",
    "    return exp/summ[:, np.newaxis]"
   ]
  },
  {
   "cell_type": "markdown",
   "metadata": {},
   "source": [
    "### The math behind the optimization \n",
    "\n",
    "We are trying to optimize the function \n",
    "\n",
    "$$L(W) = -\\sum_{k} y_k \\log \\left( \\frac{e^{W_kx}}{\\sum_i e^{W_i x}} \\right)$$\n",
    "\n",
    "For some $m$ crossponding to the true class\n",
    "\n",
    "$$L(W_m) = -W_m x - \\log\\left(\\sum_i e^{W_i x} \\right)$$\n",
    "\n",
    "$$\\frac{\\partial L}{\\partial W_{mj}} = - x + x p_j$$\n",
    "$$\\frac{\\partial L}{\\partial W_{kj}} =  x p_j$$\n",
    "\n",
    "cobining these we have \n",
    "\n",
    "$$\\frac{\\partial L}{\\partial W} = x^T (p-y)$$\n"
   ]
  },
  {
   "cell_type": "code",
   "execution_count": 8,
   "metadata": {},
   "outputs": [],
   "source": [
    "def evaluate_gradient(X,y,W , a = 0):\n",
    "    g  = soft_max(np.dot(X,W))\n",
    "    dW = np.dot(X.T, g-y)\n",
    "    return dW + 2* a * W"
   ]
  },
  {
   "cell_type": "markdown",
   "metadata": {},
   "source": [
    "### Training \n",
    "For training we randomly choose a point from the training data and we repreeat the process for 10,000 iterations. Note that the learning rate is small to compenceate for the large data points. We could've normalized the data points to set a smaller learning rate. "
   ]
  },
  {
   "cell_type": "code",
   "execution_count": 9,
   "metadata": {},
   "outputs": [],
   "source": [
    "def train(X , y, W , lr =1e-2 , itr = 1000):\n",
    "    for j in range(0, itr):\n",
    "        #calculate the analytical gradient \n",
    "        dW = evaluate_gradient(X,y,W)\n",
    "        W = W - dW * lr \n",
    "        if(j%100 == 0):\n",
    "            print(\"Loss is \", loss(X,y,W))\n",
    "    return W"
   ]
  },
  {
   "cell_type": "code",
   "execution_count": 10,
   "metadata": {
    "scrolled": true
   },
   "outputs": [
    {
     "name": "stdout",
     "output_type": "stream",
     "text": [
      "Loss is  119.810181191\n",
      "Loss is  3.23529828142\n",
      "Loss is  2.23063164356\n",
      "Loss is  1.79448358134\n",
      "Loss is  1.53514379891\n",
      "Loss is  1.35769916147\n",
      "Loss is  1.22614605822\n",
      "Loss is  1.12340842242\n",
      "Loss is  1.04019518341\n",
      "Loss is  0.970953938393\n"
     ]
    }
   ],
   "source": [
    "What = train(X,bry,W)"
   ]
  },
  {
   "cell_type": "code",
   "execution_count": 11,
   "metadata": {},
   "outputs": [],
   "source": [
    "def predict(X,W):\n",
    "    g  = soft_max(np.dot(X,W))\n",
    "    yhat = np.argmax(g,axis=1)\n",
    "    return yhat"
   ]
  },
  {
   "cell_type": "code",
   "execution_count": 12,
   "metadata": {},
   "outputs": [],
   "source": [
    "def accuracy(yhat , y):\n",
    "    diff = y-yhat \n",
    "    num_corr  = len(y) - np.count_nonzero(diff)\n",
    "    print(\"Accuracy is \" , float(num_corr)/len(y))"
   ]
  },
  {
   "cell_type": "code",
   "execution_count": 13,
   "metadata": {},
   "outputs": [
    {
     "name": "stdout",
     "output_type": "stream",
     "text": [
      "Accuracy is  1.0\n"
     ]
    }
   ],
   "source": [
    "yhat = predict(X,What)\n",
    "accuracy(yhat , y)"
   ]
  },
  {
   "cell_type": "code",
   "execution_count": 14,
   "metadata": {},
   "outputs": [],
   "source": [
    "def plot_decision_boundary(pred_func):\n",
    "    # Set min and max values and give it some padding\n",
    "    x_min, x_max = X[:, 1].min() - .5, X[:, 1].max() + .5\n",
    "    y_min, y_max = X[:, 2].min() - .5, X[:, 2].max() + .5\n",
    "    h = 0.01\n",
    "    # Generate a grid of points with distance h between them\n",
    "    xx, yy = np.meshgrid(np.arange(x_min, x_max, h), np.arange(y_min, y_max, h))\n",
    "    inp = np.c_[xx.ravel(), yy.ravel()]\n",
    "    inp = np.insert(inp, 0, values=1.0, axis=1)\n",
    "    # Predict the function value for the whole gid\n",
    "    Z = pred_func(inp)\n",
    "    Z = Z.reshape(xx.shape)\n",
    "    \n",
    "    # Plot the contour and training examples\n",
    "    plt.contourf(xx, yy, Z, cmap=plt.cm.Spectral)\n",
    "    plt.scatter(X[:, 1], X[:, 2], c=y, cmap=plt.cm.Spectral)"
   ]
  },
  {
   "cell_type": "code",
   "execution_count": 15,
   "metadata": {},
   "outputs": [
    {
     "data": {
      "image/png": "[encoded data removed]",
      "text/plain": [
       "<matplotlib.figure.Figure at 0x7f8d7caaa2b0>"
      ]
     },
     "metadata": {},
     "output_type": "display_data"
    }
   ],
   "source": [
    "plot_decision_boundary(lambda x: predict(x,What))"
   ]
  },
  {
   "cell_type": "markdown",
   "metadata": {},
   "source": [
    "### Concolusion \n",
    "* To lower the loss lower the learning rate\n",
    "* Use different learning rate for different optimization parameters aka (W,b)\n",
    "* Maybe if the data is normailzed we will need the same learning rate "
   ]
  }
 ],
 "metadata": {
  "kernelspec": {
   "display_name": "Python 3",
   "language": "python",
   "name": "python3"
  },
  "language_info": {
   "codemirror_mode": {
    "name": "ipython",
    "version": 3
   },
   "file_extension": ".py",
   "mimetype": "text/x-python",
   "name": "python",
   "nbconvert_exporter": "python",
   "pygments_lexer": "ipython3",
   "version": "3.5.4"
  }
 },
 "nbformat": 4,
 "nbformat_minor": 2
}
