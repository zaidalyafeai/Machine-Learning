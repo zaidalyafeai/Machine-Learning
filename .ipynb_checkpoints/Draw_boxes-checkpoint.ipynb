{
 "cells": [
  {
   "cell_type": "code",
   "execution_count": 1,
   "metadata": {},
   "outputs": [],
   "source": [
    "import cv2\n",
    "import numpy as np\n",
    "\n",
    "drawing = False # true if mouse is pressed\n",
    "ix,iy = -1,-1\n",
    "\n",
    "# mouse callback function\n",
    "def draw_rectangle(event,x,y,flags,param):\n",
    "    global ix,iy,drawing,img_res,img_cpy,f_x,f_y\n",
    "\n",
    "    if event == cv2.EVENT_LBUTTONDOWN:\n",
    "        drawing = True\n",
    "        ix,iy = x,y\n",
    "\n",
    "    elif event == cv2.EVENT_MOUSEMOVE:\n",
    "        if drawing == True:\n",
    "            img_cpy = img_res.copy()\n",
    "            cv2.rectangle(img_cpy,(ix,iy),(x,y),(255,255,0),1)\n",
    "\n",
    "\n",
    "    elif event == cv2.EVENT_LBUTTONUP:\n",
    "        drawing = False\n",
    "        cv2.rectangle(img_cpy,(ix,iy),(x,y),(255,255,0),1)\n",
    "        print(str(int(ix / f_x)) +' '+ str(int(iy / f_y)) +' '+ str(int((x-ix) / f_x))+ ' '+str(int((y-iy) / f_y)))\n"
   ]
  },
  {
   "cell_type": "code",
   "execution_count": 3,
   "metadata": {},
   "outputs": [
    {
     "name": "stdout",
     "output_type": "stream",
     "text": [
      "77 22 274 186\n"
     ]
    }
   ],
   "source": [
    "img = cv2.imread('img.jpg')\n",
    "\n",
    "#check if the shape is too large \n",
    "shape = img.shape\n",
    "\n",
    "f_x = 1.0\n",
    "f_y = 1.0 \n",
    "\n",
    "img_res = cv2.resize(img.copy(), (0,0), fx=f_x, fy=f_y) \n",
    "img_cpy = img_res.copy()\n",
    "\n",
    "cv2.namedWindow('image')\n",
    "cv2.setMouseCallback('image',draw_rectangle)\n",
    "\n",
    "while(1):\n",
    "    cv2.imshow('image',img_cpy)\n",
    "    k = cv2.waitKey(1) & 0xFF\n",
    "    if k == 27:\n",
    "        break\n",
    "\n",
    "cv2.destroyAllWindows()\n"
   ]
  },
  {
   "cell_type": "code",
   "execution_count": null,
   "metadata": {},
   "outputs": [],
   "source": []
  }
 ],
 "metadata": {
  "kernelspec": {
   "display_name": "Python 3",
   "language": "python",
   "name": "python3"
  },
  "language_info": {
   "codemirror_mode": {
    "name": "ipython",
    "version": 3
   },
   "file_extension": ".py",
   "mimetype": "text/x-python",
   "name": "python",
   "nbconvert_exporter": "python",
   "pygments_lexer": "ipython3",
   "version": "3.5.2"
  }
 },
 "nbformat": 4,
 "nbformat_minor": 2
}
