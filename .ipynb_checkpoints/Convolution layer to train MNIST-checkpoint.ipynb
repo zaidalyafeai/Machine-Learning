{
 "cells": [
  {
   "cell_type": "markdown",
   "metadata": {},
   "source": [
    "### Import libraries "
   ]
  },
  {
   "cell_type": "code",
   "execution_count": 1,
   "metadata": {},
   "outputs": [],
   "source": [
    "import torch\n",
    "import torch.nn as nn\n",
    "from torch.autograd import Variable\n",
    "import torchvision\n",
    "import torchvision.transforms as T\n",
    "import torch.optim as optim\n",
    "from torch.utils.data import DataLoader\n",
    "from torch.utils.data import sampler\n",
    "import torchvision.datasets as dset\n",
    "import matplotlib.pyplot as plt\n",
    "import numpy as np"
   ]
  },
  {
   "cell_type": "markdown",
   "metadata": {},
   "source": [
    "### Sampler function"
   ]
  },
  {
   "cell_type": "markdown",
   "metadata": {},
   "source": [
    "A function that returns a sample/patch of specific size "
   ]
  },
  {
   "cell_type": "code",
   "execution_count": 2,
   "metadata": {},
   "outputs": [],
   "source": [
    "class ChunkSampler(sampler.Sampler):\n",
    "    \"\"\"Samples elements sequentially from some offset. \n",
    "    Arguments:\n",
    "        num_samples: # of desired datapoints\n",
    "        start: offset where we should start selecting from\n",
    "    \"\"\"\n",
    "    def __init__(self, num_samples, start=0):\n",
    "        self.num_samples = num_samples\n",
    "        self.start = start\n",
    "\n",
    "    def __iter__(self):\n",
    "        return iter(range(self.start, self.start + self.num_samples))\n",
    "\n",
    "    def __len__(self):\n",
    "        return self.num_samples"
   ]
  },
  {
   "cell_type": "markdown",
   "metadata": {},
   "source": [
    "### Sample data from training and validation "
   ]
  },
  {
   "cell_type": "markdown",
   "metadata": {},
   "source": [
    "Download the data set if it doesn't exist and use the sampler to divide it using the batch size "
   ]
  },
  {
   "cell_type": "code",
   "execution_count": 3,
   "metadata": {},
   "outputs": [],
   "source": [
    "NUM_TRAIN = 50000\n",
    "NUM_VAL = 5000\n",
    "batch_size = 128\n",
    "\n",
    "#download mnist training dataset and sample it \n",
    "mnist_train = dset.MNIST('./datasets/MNIST_data', train=True, download=True,\n",
    "                           transform=T.ToTensor())\n",
    "loader_train = DataLoader(mnist_train, batch_size=batch_size,\n",
    "                          sampler=ChunkSampler(NUM_TRAIN, 0))\n",
    "\n",
    "#download mnist validation dataset and sample it \n",
    "mnist_val = dset.MNIST('./datasets/MNIST_data', train=True, download=True,\n",
    "                           transform=T.ToTensor())\n",
    "loader_val = DataLoader(mnist_val, batch_size=batch_size,\n",
    "                        sampler=ChunkSampler(NUM_VAL, NUM_TRAIN))"
   ]
  },
  {
   "cell_type": "markdown",
   "metadata": {},
   "source": [
    "### Flatten the data for fully connected layers"
   ]
  },
  {
   "cell_type": "markdown",
   "metadata": {},
   "source": [
    "In order to forward the current patch of size $(N,C,H,W)$ we have to reshape it to size $(N,C \\times H  \\times W)$ "
   ]
  },
  {
   "cell_type": "code",
   "execution_count": 4,
   "metadata": {},
   "outputs": [],
   "source": [
    "class Flatten(nn.Module):\n",
    "    def forward(self,x):\n",
    "        N,_,_,_ = x.size()\n",
    "        return x.view(N,-1)"
   ]
  },
  {
   "cell_type": "markdown",
   "metadata": {},
   "source": [
    "### Model design "
   ]
  },
  {
   "cell_type": "markdown",
   "metadata": {},
   "source": [
    "The function which a signle convolution layer + relu + norm + 2FC layers "
   ]
  },
  {
   "cell_type": "code",
   "execution_count": 5,
   "metadata": {},
   "outputs": [],
   "source": [
    "model=nn.Sequential(nn.Conv2d(in_channels=1,out_channels=32,kernel_size=7,stride=1),\n",
    "                    nn.ReLU(inplace=True),\n",
    "                    nn.BatchNorm2d(num_features=32),\n",
    "                    nn.MaxPool2d(kernel_size=2,stride=2),\n",
    "                    Flatten(),\n",
    "                    nn.Linear(3872,1024), \n",
    "                    nn.ReLU(inplace=True),\n",
    "                    nn.Linear(1024,10),\n",
    "                    ).cuda()"
   ]
  },
  {
   "cell_type": "markdown",
   "metadata": {},
   "source": [
    "### Optimizer "
   ]
  },
  {
   "cell_type": "code",
   "execution_count": 6,
   "metadata": {},
   "outputs": [],
   "source": [
    "optimizer = optim.Adam(model.parameters())"
   ]
  },
  {
   "cell_type": "markdown",
   "metadata": {},
   "source": [
    "### Trianer "
   ]
  },
  {
   "cell_type": "code",
   "execution_count": 7,
   "metadata": {},
   "outputs": [],
   "source": [
    "def train(model,solver,epochs = 10):\n",
    "    \n",
    "    #loss function \n",
    "    loss = nn.CrossEntropyLoss()\n",
    "    \n",
    "    #variable to save the loss of each epoch \n",
    "    training_loss = []\n",
    "    l = 0 \n",
    "    \n",
    "    #iterate over the epochs \n",
    "    for i in range(0,epochs):\n",
    "        \n",
    "        #iterate over the training set \n",
    "        for x,target in loader_train:\n",
    "            #zero out the gradient first \n",
    "            solver.zero_grad()\n",
    "            \n",
    "            #convert the input set to a cuda variable to run on gpu \n",
    "            data = Variable(x).cuda()\n",
    "            trgt = Variable(target).cuda()\n",
    "            \n",
    "            #forward pass\n",
    "            y = model(data)\n",
    "            \n",
    "            #error calculation \n",
    "            outpt= loss(y,trgt)\n",
    "            \n",
    "            #calculate the gradient \n",
    "            outpt.backward()\n",
    "            \n",
    "            #update the parameters \n",
    "            solver.step()\n",
    "\n",
    "            # the current loss \n",
    "            l = outpt.cpu().data.numpy()[0]\n",
    "        training_loss.append(l)\n",
    "    \n",
    "    #plot the loss of each epoch run \n",
    "    plt.xlabel('Epoch')\n",
    "    plt.ylabel('Loss')\n",
    "    epoch = list(range(1, 1+len(training_loss)))\n",
    "    t_line, = plt.plot(epoch, training_loss, 'co-', label='Training Loss')\n",
    "    plt.legend(handles=[t_line])\n",
    "    plt.show()\n",
    "    \n",
    "    return model "
   ]
  },
  {
   "cell_type": "code",
   "execution_count": 8,
   "metadata": {},
   "outputs": [
    {
     "data": {
      "image/png": "[encoded data removed]",
      "text/plain": [
       "<matplotlib.figure.Figure at 0x7fc231764978>"
      ]
     },
     "metadata": {},
     "output_type": "display_data"
    }
   ],
   "source": [
    "trained_model = train(model,optimizer)"
   ]
  },
  {
   "cell_type": "markdown",
   "metadata": {},
   "source": [
    "### Validation "
   ]
  },
  {
   "cell_type": "code",
   "execution_count": 9,
   "metadata": {},
   "outputs": [],
   "source": [
    "from sklearn.metrics import accuracy_score\n",
    "\n",
    "def valid(model):\n",
    "    cnt = 0\n",
    "    \n",
    "    #save true labels and predicted \n",
    "    y_tru = []\n",
    "    y_prd = [] \n",
    "    \n",
    "    for x,target in loader_val:\n",
    "        \n",
    "        #same as training \n",
    "        data = Variable(x).cuda()\n",
    "        trgt = Variable(target).cuda()\n",
    "        y = model(data)\n",
    "        \n",
    "        #convert the data to numpy types \n",
    "        y_batch_prd = y.cpu().data.numpy()\n",
    "        y_batch_prd = np.argmax(y_batch_prd,axis=1)\n",
    "        y_batch_tru = trgt.cpu().data.numpy() \n",
    "        \n",
    "        #conactenate calcuated and true labels \n",
    "        y_prd = np.concatenate((y_prd,y_batch_prd))\n",
    "        y_tru = np.concatenate((y_tru,y_batch_tru))\n",
    "        \n",
    "    print('Accuracy on validation' , accuracy_score(y_tru,y_prd)*100 ,'%')\n",
    "        "
   ]
  },
  {
   "cell_type": "code",
   "execution_count": 10,
   "metadata": {},
   "outputs": [
    {
     "name": "stdout",
     "output_type": "stream",
     "text": [
      "Accuracy on validation 98.68 %\n"
     ]
    }
   ],
   "source": [
    "valid(trained_model)"
   ]
  }
 ],
 "metadata": {
  "kernelspec": {
   "display_name": "Python 3",
   "language": "python",
   "name": "python3"
  },
  "language_info": {
   "codemirror_mode": {
    "name": "ipython",
    "version": 3
   },
   "file_extension": ".py",
   "mimetype": "text/x-python",
   "name": "python",
   "nbconvert_exporter": "python",
   "pygments_lexer": "ipython3",
   "version": "3.5.2"
  }
 },
 "nbformat": 4,
 "nbformat_minor": 2
}
