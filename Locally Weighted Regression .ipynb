{
 "cells": [
  {
   "cell_type": "code",
   "execution_count": 1,
   "metadata": {},
   "outputs": [],
   "source": [
    "import matplotlib.pyplot as plt\n",
    "import numpy as np\n",
    "from sklearn import datasets\n",
    "from numpy.linalg import inv"
   ]
  },
  {
   "cell_type": "markdown",
   "metadata": {},
   "source": [
    "Here we discuss the concept of locally weighted regression where a model is generated for each query point $x_q$ depending on closer neighbors. "
   ]
  },
  {
   "cell_type": "markdown",
   "metadata": {},
   "source": [
    "### Generating the data "
   ]
  },
  {
   "cell_type": "code",
   "execution_count": 11,
   "metadata": {},
   "outputs": [],
   "source": [
    "# Load the diabetes dataset\n",
    "diabetes = datasets.load_diabetes()\n",
    "\n",
    "\n",
    "# Use only one feature\n",
    "diabetes_X = diabetes.data[:, np.newaxis, 2]\n",
    "\n",
    "#points \n",
    "X = diabetes_X[0:50]\n",
    "\n",
    "# target values \n",
    "y = diabetes.target[0:50]\n"
   ]
  },
  {
   "cell_type": "markdown",
   "metadata": {},
   "source": [
    "### Plot the data "
   ]
  },
  {
   "cell_type": "code",
   "execution_count": 12,
   "metadata": {
    "scrolled": true
   },
   "outputs": [
    {
     "data": {
      "image/png": "[encoded data removed]",
      "text/plain": [
       "<matplotlib.figure.Figure at 0x7fe351466828>"
      ]
     },
     "metadata": {},
     "output_type": "display_data"
    }
   ],
   "source": [
    "plt.scatter(X, y,  color='red')\n",
    "plt.show()"
   ]
  },
  {
   "cell_type": "markdown",
   "metadata": {},
   "source": [
    "### Insert a column of 1's for the biases "
   ]
  },
  {
   "cell_type": "code",
   "execution_count": 13,
   "metadata": {},
   "outputs": [],
   "source": [
    "X=np.insert(X, 0, values=1.0, axis=1)"
   ]
  },
  {
   "cell_type": "markdown",
   "metadata": {},
   "source": [
    "### Loss function "
   ]
  },
  {
   "cell_type": "markdown",
   "metadata": {},
   "source": [
    "$$\\epsilon(\\theta) = \\sum_{i=1}^m \\omega_i (y^{(i)}-x^{(i)}\\theta^T)^2 $$\n",
    "\n",
    "This can be vectorized as \n",
    "\n",
    "$$\\epsilon(\\theta) = \\left(Wy-WX\\theta \\right)^T \\left(y-X\\theta\\right)$$\n",
    "\n",
    "This can be expanded to \n",
    "\n",
    "$$\\epsilon(\\theta) = y^TWy-\\theta^TX^TWy-y^TWX\\theta +\\theta^TX^TWX\\theta$$\n",
    "\n",
    "Take the partial derivative \n",
    "\n",
    "$$\\frac{ \\partial \\epsilon}{\\partial \\theta} =-2X^TWy+2X^TWX\\theta$$\n",
    "\n",
    "By equating to zero we deduce \n",
    "\n",
    "$$\\theta = \\left( X^TWX\\right)^{-1} X^TWy$$\n"
   ]
  },
  {
   "cell_type": "markdown",
   "metadata": {},
   "source": [
    "### Similarity of query point and training point "
   ]
  },
  {
   "cell_type": "markdown",
   "metadata": {},
   "source": [
    "We choose the weights as \n",
    "\n",
    "$$\\omega_i = \\exp \\left(-(x_i-x_q)^T {\\sum}^{-1} (x_i-x_q)\\right)$$"
   ]
  },
  {
   "cell_type": "markdown",
   "metadata": {},
   "source": [
    "### Initialize the initial values of the weights $\\omega$"
   ]
  },
  {
   "cell_type": "code",
   "execution_count": 14,
   "metadata": {},
   "outputs": [],
   "source": [
    "sig = 0.5\n",
    "cov = np.identity(X.shape[1])*sig**2"
   ]
  },
  {
   "cell_type": "markdown",
   "metadata": {},
   "source": [
    "### Retrieve the weights matrix of each query point "
   ]
  },
  {
   "cell_type": "code",
   "execution_count": 15,
   "metadata": {},
   "outputs": [],
   "source": [
    "def get_Weight(xq):\n",
    "    m = X.shape[0]\n",
    "    W = np.zeros((m,m))\n",
    "    for i in range(0,m):\n",
    "        W[i,i] = np.exp(-0.5*((X[i]-xq).T).dot(inv(cov)).dot((X[i]-xq)))  \n",
    "    return W"
   ]
  },
  {
   "cell_type": "markdown",
   "metadata": {},
   "source": [
    "### Predicting a new query point "
   ]
  },
  {
   "cell_type": "markdown",
   "metadata": {},
   "source": [
    "Note that we need to keep the whole training set in the memory to retrieve the prediction of a point. Also there is no parameters for the model hence called non-parametric. "
   ]
  },
  {
   "cell_type": "code",
   "execution_count": 19,
   "metadata": {},
   "outputs": [],
   "source": [
    "def predict(Xte):\n",
    "    m = Xte.shape[0]\n",
    "    yhat = np.zeros(m)\n",
    "    for i in range(0,Xte.shape[0]):\n",
    "        W = get_Weight(Xte[i])\n",
    "        yi = inv((X.T).dot(W).dot(X)).dot(X.T).dot(W).dot(y)\n",
    "        yhat[i] = Xte[i].dot(yi)\n",
    "    return yhat"
   ]
  },
  {
   "cell_type": "code",
   "execution_count": 20,
   "metadata": {},
   "outputs": [],
   "source": [
    "yhat = predict(X)"
   ]
  },
  {
   "cell_type": "code",
   "execution_count": 21,
   "metadata": {},
   "outputs": [
    {
     "data": {
      "image/png": "[encoded data removed]",
      "text/plain": [
       "<matplotlib.figure.Figure at 0x7fe3513040b8>"
      ]
     },
     "metadata": {},
     "output_type": "display_data"
    }
   ],
   "source": [
    "plt.scatter(X[:,1], yhat,  color='red')\n",
    "plt.scatter(X[:,1], y,  color='blue')\n",
    "plt.show()"
   ]
  }
 ],
 "metadata": {
  "kernelspec": {
   "display_name": "Python 3",
   "language": "python",
   "name": "python3"
  },
  "language_info": {
   "codemirror_mode": {
    "name": "ipython",
    "version": 3
   },
   "file_extension": ".py",
   "mimetype": "text/x-python",
   "name": "python",
   "nbconvert_exporter": "python",
   "pygments_lexer": "ipython3",
   "version": "3.5.4"
  }
 },
 "nbformat": 4,
 "nbformat_minor": 2
}
