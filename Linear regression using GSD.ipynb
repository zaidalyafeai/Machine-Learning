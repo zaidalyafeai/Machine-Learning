{
 "cells": [
  {
   "cell_type": "markdown",
   "metadata": {},
   "source": [
    "### Import libraries "
   ]
  },
  {
   "cell_type": "code",
   "execution_count": 1,
   "metadata": {},
   "outputs": [],
   "source": [
    "from sklearn import datasets\n",
    "import matplotlib.pyplot as plt\n",
    "import numpy as np\n",
    "from numpy.linalg import inv\n",
    "from numpy.linalg import norm"
   ]
  },
  {
   "cell_type": "markdown",
   "metadata": {},
   "source": [
    "The big disadvantage of using the normal equations is the complexity of finding the inverse of $X^T X$ which can be arbitrary huge depending on the data on the training set. A pretty preferrrable approach is using gradient descent which tracks the decrease on the loss function and moves towards it. "
   ]
  },
  {
   "cell_type": "markdown",
   "metadata": {},
   "source": [
    "### Generated random data\n",
    "\n",
    "Use the diabetes data offered by skicit learn "
   ]
  },
  {
   "cell_type": "code",
   "execution_count": 2,
   "metadata": {},
   "outputs": [],
   "source": [
    "# Load the diabetes dataset\n",
    "diabetes = datasets.load_diabetes()\n",
    "\n",
    "# Use only one feature\n",
    "diabetes_X = diabetes.data[:, np.newaxis, 2]\n",
    "\n",
    "# Use 50 data points\n",
    "X = diabetes_X[0:50]\n",
    "\n",
    "# The true value of y\n",
    "y = diabetes.target[0:50]\n"
   ]
  },
  {
   "cell_type": "markdown",
   "metadata": {},
   "source": [
    "### Plot the data \n"
   ]
  },
  {
   "cell_type": "code",
   "execution_count": 3,
   "metadata": {},
   "outputs": [
    {
     "data": {
      "image/png": "[encoded data removed]",
      "text/plain": [
       "<matplotlib.figure.Figure at 0x7fa478f3a278>"
      ]
     },
     "metadata": {},
     "output_type": "display_data"
    }
   ],
   "source": [
    "plt.scatter(X, y,  color='red')\n",
    "plt.show()"
   ]
  },
  {
   "cell_type": "markdown",
   "metadata": {},
   "source": [
    "The length of training and testing "
   ]
  },
  {
   "cell_type": "code",
   "execution_count": 4,
   "metadata": {},
   "outputs": [
    {
     "name": "stdout",
     "output_type": "stream",
     "text": [
      "The length of the data set  50\n"
     ]
    }
   ],
   "source": [
    "print (\"The length of the data set \" , len(X))"
   ]
  },
  {
   "cell_type": "markdown",
   "metadata": {},
   "source": [
    "### Insert columns of 1's\n",
    "In order to rewrite $X\\theta+b$ to $X\\theta$ hence we don't need to worry about the bias term "
   ]
  },
  {
   "cell_type": "code",
   "execution_count": 5,
   "metadata": {},
   "outputs": [],
   "source": [
    "X=np.insert(X, 0, values=1.0, axis=1)"
   ]
  },
  {
   "cell_type": "markdown",
   "metadata": {},
   "source": [
    "### Initialize the parameters "
   ]
  },
  {
   "cell_type": "code",
   "execution_count": 6,
   "metadata": {},
   "outputs": [
    {
     "name": "stdout",
     "output_type": "stream",
     "text": [
      "(50, 2)\n",
      "(50,)\n",
      "(2,)\n"
     ]
    }
   ],
   "source": [
    "M = X.shape[0]\n",
    "N = X.shape[1]\n",
    "\n",
    "theta = np.random.randn(N)\n",
    "print(X.shape)\n",
    "print(y.shape)\n",
    "print(theta.shape)"
   ]
  },
  {
   "cell_type": "markdown",
   "metadata": {},
   "source": [
    "### Loss function "
   ]
  },
  {
   "cell_type": "markdown",
   "metadata": {},
   "source": [
    "$$L(\\theta) = \\frac{1}{2} \\sum_{i=1}^m ||y^{(i)}-x^{(i)}\\theta^T||^2$$\n",
    "\n",
    "In a vectorized notation we have \n",
    "\n",
    "$$L(\\theta) = \\frac{1}{2} \\left(y-X\\theta \\right)^T \\left(y-X\\theta \\right)$$"
   ]
  },
  {
   "cell_type": "code",
   "execution_count": 7,
   "metadata": {},
   "outputs": [],
   "source": [
    "def ssd(X,y,theta):\n",
    "    return norm(y-X.dot(theta))/2"
   ]
  },
  {
   "cell_type": "code",
   "execution_count": 8,
   "metadata": {},
   "outputs": [
    {
     "name": "stdout",
     "output_type": "stream",
     "text": [
      "567.698929301\n"
     ]
    }
   ],
   "source": [
    "print(ssd(X,y,theta))"
   ]
  },
  {
   "cell_type": "markdown",
   "metadata": {},
   "source": [
    "### Gradient of the hyper-parameters "
   ]
  },
  {
   "cell_type": "markdown",
   "metadata": {},
   "source": [
    "Note the loss function can be written \n",
    "\n",
    "$$L(\\theta) = \\frac{1}{2} \\left(y^Ty-\\theta^TX^Ty-yX\\theta+\\theta^T X^TX \\theta \\right)$$\n",
    "\n",
    "By taking the gradient with respect to the parameters \n",
    "\n",
    "$$\\frac{\\partial L}{\\partial \\theta} = \\frac{1}{2} \\left(-2X^Ty +2X^TX \\theta \\right) $$\n",
    "\n",
    "Which simplifies to the following \n",
    "\n",
    "$$\\frac{\\partial L}{\\partial \\theta}= X^T \\left(X \\theta -y \\right)$$\n",
    "\n"
   ]
  },
  {
   "cell_type": "markdown",
   "metadata": {},
   "source": [
    "### Training"
   ]
  },
  {
   "cell_type": "code",
   "execution_count": 76,
   "metadata": {
    "scrolled": true
   },
   "outputs": [],
   "source": [
    "def train(X,theta,y,itr = 1000 , lrate = 1e-2):\n",
    "    for j in range(0, itr):\n",
    "        f = X.dot(theta)\n",
    "        gradient = (X.T).dot(f - y)\n",
    "        theta = theta - gradient * lrate\n",
    "        \n",
    "        if j % 100 == 0:\n",
    "            print (\"The current loss is \" , ssd(X,y,theta))\n",
    "    return theta"
   ]
  },
  {
   "cell_type": "code",
   "execution_count": 77,
   "metadata": {},
   "outputs": [
    {
     "name": "stdout",
     "output_type": "stream",
     "text": [
      "The current loss is  362.683362338\n",
      "The current loss is  252.933456772\n",
      "The current loss is  246.402064324\n",
      "The current loss is  240.948561338\n",
      "The current loss is  236.411339741\n",
      "The current loss is  232.648405716\n",
      "The current loss is  229.536273318\n",
      "The current loss is  226.9685568\n",
      "The current loss is  224.854371602\n",
      "The current loss is  223.11664994\n"
     ]
    }
   ],
   "source": [
    "thetahat = train(X,theta,y)"
   ]
  },
  {
   "cell_type": "markdown",
   "metadata": {},
   "source": [
    "### Prediction "
   ]
  },
  {
   "cell_type": "markdown",
   "metadata": {},
   "source": [
    "Note that \n",
    "\n",
    "$$\\hat{y} = X \\hat{\\theta}$$"
   ]
  },
  {
   "cell_type": "code",
   "execution_count": 78,
   "metadata": {},
   "outputs": [],
   "source": [
    "yhat = X.dot(thetahat)"
   ]
  },
  {
   "cell_type": "markdown",
   "metadata": {},
   "source": [
    "### Plot the regression solution "
   ]
  },
  {
   "cell_type": "code",
   "execution_count": 79,
   "metadata": {},
   "outputs": [
    {
     "data": {
      "image/png": "[encoded data removed]",
      "text/plain": [
       "<matplotlib.figure.Figure at 0x7fa46fd2a470>"
      ]
     },
     "metadata": {},
     "output_type": "display_data"
    }
   ],
   "source": [
    "plt.scatter(X[:, 1], y,  color='red')\n",
    "plt.scatter(X[:, 1], yhat,  color='blue')\n",
    "\n",
    "plt.show()"
   ]
  },
  {
   "cell_type": "markdown",
   "metadata": {},
   "source": [
    "### Regularization "
   ]
  },
  {
   "cell_type": "markdown",
   "metadata": {},
   "source": [
    "$$L(\\theta) = \\frac{1}{2} \\left(y-X\\theta \\right)^T \\left(y-X\\theta \\right) + \\lambda ||\\theta||^2$$"
   ]
  },
  {
   "cell_type": "code",
   "execution_count": 80,
   "metadata": {},
   "outputs": [],
   "source": [
    "def reg_ssd(X,y,theta , lbda):\n",
    "    return norm(y-X.dot(theta))/2+lbda*norm(theta)"
   ]
  },
  {
   "cell_type": "markdown",
   "metadata": {},
   "source": [
    "### Gradient with regularization "
   ]
  },
  {
   "cell_type": "markdown",
   "metadata": {},
   "source": [
    "$$\\frac{\\partial L}{\\partial \\theta}= X^T \\left(X \\theta -y \\right)+ 2 \\lambda \\theta$$\n"
   ]
  },
  {
   "cell_type": "code",
   "execution_count": 81,
   "metadata": {},
   "outputs": [],
   "source": [
    "def reg_train(X,theta,y,lbda = 1e-2, itr = 1000 , lrate = 1e-2):\n",
    "    for j in range(0, itr):\n",
    "        f = X.dot(theta)\n",
    "        gradient = (X.T).dot(f - y)\n",
    "        theta = theta*(1-2*lbda) - gradient * lrate\n",
    "        \n",
    "        if j % 100 == 0:\n",
    "            print (\"The current loss is \" , reg_ssd(X,y,theta , lbda))\n",
    "    return theta"
   ]
  },
  {
   "cell_type": "code",
   "execution_count": 82,
   "metadata": {},
   "outputs": [
    {
     "name": "stdout",
     "output_type": "stream",
     "text": [
      "The current loss is  363.372076092\n",
      "The current loss is  259.429646109\n",
      "The current loss is  259.039807226\n",
      "The current loss is  258.993424224\n",
      "The current loss is  258.987885554\n",
      "The current loss is  258.987223887\n",
      "The current loss is  258.987144838\n",
      "The current loss is  258.987135394\n",
      "The current loss is  258.987134266\n",
      "The current loss is  258.987134131\n"
     ]
    }
   ],
   "source": [
    "thetahat = reg_train(X,theta,y)"
   ]
  },
  {
   "cell_type": "code",
   "execution_count": 83,
   "metadata": {},
   "outputs": [],
   "source": [
    "yhat = X.dot(thetahat)"
   ]
  },
  {
   "cell_type": "code",
   "execution_count": 84,
   "metadata": {},
   "outputs": [
    {
     "data": {
      "image/png": "[encoded data removed]",
      "text/plain": [
       "<matplotlib.figure.Figure at 0x7fa46fea7e80>"
      ]
     },
     "metadata": {},
     "output_type": "display_data"
    }
   ],
   "source": [
    "plt.scatter(X[:, 1], y,  color='red')\n",
    "plt.scatter(X[:, 1], yhat,  color='blue')\n",
    "\n",
    "plt.show()"
   ]
  },
  {
   "cell_type": "markdown",
   "metadata": {},
   "source": [
    "Note the line becomes less senstive to outliers "
   ]
  },
  {
   "cell_type": "code",
   "execution_count": null,
   "metadata": {},
   "outputs": [],
   "source": []
  }
 ],
 "metadata": {
  "kernelspec": {
   "display_name": "Python 3",
   "language": "python",
   "name": "python3"
  },
  "language_info": {
   "codemirror_mode": {
    "name": "ipython",
    "version": 3
   },
   "file_extension": ".py",
   "mimetype": "text/x-python",
   "name": "python",
   "nbconvert_exporter": "python",
   "pygments_lexer": "ipython3",
   "version": "3.5.4"
  }
 },
 "nbformat": 4,
 "nbformat_minor": 2
}
